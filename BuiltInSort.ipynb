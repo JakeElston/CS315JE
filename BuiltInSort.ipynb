{
  "nbformat": 4,
  "nbformat_minor": 0,
  "metadata": {
    "colab": {
      "provenance": [],
      "authorship_tag": "ABX9TyNkVPE5rW96ouIvUBBx41vp",
      "include_colab_link": true
    },
    "kernelspec": {
      "name": "python3",
      "display_name": "Python 3"
    },
    "language_info": {
      "name": "python"
    }
  },
  "cells": [
    {
      "cell_type": "markdown",
      "metadata": {
        "id": "view-in-github",
        "colab_type": "text"
      },
      "source": [
        "<a href=\"https://colab.research.google.com/github/JakeElston/CS315JE/blob/main/BuiltInSort.ipynb\" target=\"_parent\"><img src=\"https://colab.research.google.com/assets/colab-badge.svg\" alt=\"Open In Colab\"/></a>"
      ]
    },
    {
      "cell_type": "code",
      "execution_count": null,
      "metadata": {
        "id": "jyGuq3zg5Kb5"
      },
      "outputs": [],
      "source": [
        "import random, math, time"
      ]
    },
    {
      "cell_type": "code",
      "source": [
        "for i in range(1, 4):\n",
        "  N = int(math.pow(10,i))\n",
        "  A = list(range(N))\n",
        "  random.shuffle(A)\n",
        "\n",
        "#Uses random set\n",
        "  start = time.time()\n",
        "  A.sort()\n",
        "  end = time.time()\n",
        "  ratio = (end - start) / (N*math.log(N, 2))\n",
        "  print(\"Random: \",N,end-start,ratio)\n",
        "\n",
        "#Uses sorted data from previous run\n",
        "  start = time.time()\n",
        "  A.sort()\n",
        "  end = time.time()\n",
        "  ratio = (end - start) / (N)\n",
        "  print(\"Sorted: \",N,end-start,ratio)"
      ],
      "metadata": {
        "colab": {
          "base_uri": "https://localhost:8080/"
        },
        "id": "4B_cxg6R5TRr",
        "outputId": "cecd4ba5-25d9-4673-fb08-4742ccb183e3"
      },
      "execution_count": null,
      "outputs": [
        {
          "output_type": "stream",
          "name": "stdout",
          "text": [
            "Random:  10 1.6689300537109375e-06 5.023980068320914e-08\n",
            "Sorted:  10 1.9073486328125e-06 1.9073486328125e-07\n",
            "Random:  100 9.775161743164062e-06 1.4713084485796963e-08\n",
            "Sorted:  100 9.5367431640625e-07 9.5367431640625e-09\n",
            "Random:  1000 0.00012683868408203125 1.2727416173079648e-08\n",
            "Sorted:  1000 4.76837158203125e-06 4.76837158203125e-09\n"
          ]
        }
      ]
    },
    {
      "cell_type": "code",
      "source": [
        "for i in range(1, 4):\n",
        "  N = int(math.pow(10,i))\n",
        "  A = list(range(N))\n",
        "  random.shuffle(A)\n",
        "\n",
        "#Uses random set\n",
        "  start = time.time()\n",
        "  sorted(A)\n",
        "  end = time.time()\n",
        "  ratio = (end - start) / (N*math.log(N, 2))\n",
        "  print(\"Random: \",N,end-start,ratio)\n",
        "\n",
        "#Uses sorted data from previous run\n",
        "  start = time.time()\n",
        "  sorted(A)\n",
        "  end = time.time()\n",
        "  ratio = (end - start) / (N)\n",
        "  print(\"Sorted: \",N,end-start,ratio)"
      ],
      "metadata": {
        "colab": {
          "base_uri": "https://localhost:8080/"
        },
        "id": "B6iarJif580i",
        "outputId": "f0c7175c-a2be-4460-f64f-074fe264b293"
      },
      "execution_count": null,
      "outputs": [
        {
          "output_type": "stream",
          "name": "stdout",
          "text": [
            "Random:  10 4.291534423828125e-06 1.2918805889968065e-07\n",
            "Sorted:  10 2.6226043701171875e-06 2.6226043701171877e-07\n",
            "Random:  100 1.0728836059570312e-05 1.614850736246008e-08\n",
            "Sorted:  100 6.4373016357421875e-06 6.437301635742188e-08\n",
            "Random:  1000 0.00013518333435058594 1.3564746184466467e-08\n",
            "Sorted:  1000 0.000118255615234375 1.18255615234375e-07\n"
          ]
        }
      ]
    },
    {
      "cell_type": "code",
      "source": [
        "#The .sort and sorted functions in python are extremely fast in both best case and worst case scenarios.  According to Python's documentation, this is because they use timsort, a fast and stable algorithm based on mergesort and insertion sort."
      ],
      "metadata": {
        "id": "hCMqAoJ17DWx"
      },
      "execution_count": null,
      "outputs": []
    }
  ]
}