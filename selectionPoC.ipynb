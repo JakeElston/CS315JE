{
  "nbformat": 4,
  "nbformat_minor": 0,
  "metadata": {
    "colab": {
      "provenance": [],
      "include_colab_link": true
    },
    "kernelspec": {
      "name": "python3",
      "display_name": "Python 3"
    },
    "language_info": {
      "name": "python"
    }
  },
  "cells": [
    {
      "cell_type": "markdown",
      "metadata": {
        "id": "view-in-github",
        "colab_type": "text"
      },
      "source": [
        "<a href=\"https://colab.research.google.com/github/JakeElston/CS315JE/blob/main/selectionPoC.ipynb\" target=\"_parent\"><img src=\"https://colab.research.google.com/assets/colab-badge.svg\" alt=\"Open In Colab\"/></a>"
      ]
    },
    {
      "cell_type": "code",
      "execution_count": null,
      "metadata": {
        "id": "tZGwopH4Y7oL"
      },
      "outputs": [],
      "source": [
        "# Template for testing Selection Sort on small lists, outputing each intermediate step"
      ]
    },
    {
      "cell_type": "code",
      "source": [
        "import random\n",
        "import time\n",
        "import math"
      ],
      "metadata": {
        "id": "fSME9MywceAq"
      },
      "execution_count": 5,
      "outputs": []
    },
    {
      "cell_type": "code",
      "source": [
        "def selection(A,print_flag):\n",
        "\n",
        "\n",
        "# for your convenience, the psuedocode from class is provided, and note that you don't really need line 1, you can handle that in the outer for loop statement\n",
        "  n = len(A)\n",
        "  for i in range(n-1):\n",
        "    smallest = i\n",
        "    for j in range(i, n):\n",
        "      if A[smallest] > A[j]:\n",
        "        smallest = j\n",
        "    temp1 = A[i]\n",
        "    temp2 = smallest\n",
        "    A[i] = A[smallest]\n",
        "    A[temp2] = temp1"
      ],
      "metadata": {
        "id": "TJZL4jFQZhAp"
      },
      "execution_count": 1,
      "outputs": []
    },
    {
      "cell_type": "code",
      "source": [
        "for i in range(1, 4):\n",
        "  N = int(math.pow(10,i))\n",
        "  A = list(range(N))\n",
        "  random.shuffle(A)\n",
        "\n",
        "#Uses random list\n",
        "  start = time.time()\n",
        "  selection(A,True)\n",
        "  end = time.time()\n",
        "  ratio = (end - start) / (N^2)\n",
        "  print(\"Random: \",N,end-start,ratio)\n",
        "\n",
        "#Uses sorted list from last run\n",
        "  start = time.time()\n",
        "  selection(A,True)\n",
        "  end = time.time()\n",
        "  ratio = (end - start) / (N^2)\n",
        "  print(\"Sorted: \",N,end-start,ratio)\n"
      ],
      "metadata": {
        "id": "f1GS3NjwZqmS",
        "outputId": "96576cc2-71b4-41d9-a341-94de6f5d279e",
        "colab": {
          "base_uri": "https://localhost:8080/"
        }
      },
      "execution_count": 6,
      "outputs": [
        {
          "output_type": "stream",
          "name": "stdout",
          "text": [
            "Random:  10 7.867813110351562e-06 9.834766387939453e-07\n",
            "Sorted:  10 6.198883056640625e-06 7.748603820800781e-07\n",
            "Random:  100 0.0002167224884033203 2.1247302784639247e-06\n",
            "Sorted:  100 0.00020360946655273438 1.9961712407130822e-06\n",
            "Random:  1000 0.029741287231445312 2.968192338467596e-05\n",
            "Sorted:  1000 0.024507999420166016 2.4459081257650715e-05\n"
          ]
        }
      ]
    }
  ]
}