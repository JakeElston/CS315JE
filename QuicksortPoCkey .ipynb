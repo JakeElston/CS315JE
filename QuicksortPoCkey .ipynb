{
  "nbformat": 4,
  "nbformat_minor": 0,
  "metadata": {
    "colab": {
      "provenance": [],
      "include_colab_link": true
    },
    "kernelspec": {
      "name": "python3",
      "display_name": "Python 3"
    },
    "language_info": {
      "name": "python"
    }
  },
  "cells": [
    {
      "cell_type": "markdown",
      "metadata": {
        "id": "view-in-github",
        "colab_type": "text"
      },
      "source": [
        "<a href=\"https://colab.research.google.com/github/JakeElston/CS315JE/blob/main/QuicksortPoCkey%20.ipynb\" target=\"_parent\"><img src=\"https://colab.research.google.com/assets/colab-badge.svg\" alt=\"Open In Colab\"/></a>"
      ]
    },
    {
      "cell_type": "code",
      "execution_count": null,
      "metadata": {
        "id": "t_LwP80OmwFK"
      },
      "outputs": [],
      "source": [
        "# Template for testing Quick-Sort on small lists, outputing each intermediate step"
      ]
    },
    {
      "cell_type": "code",
      "source": [
        "import random\n",
        "import time\n",
        "import math\n",
        "import sys"
      ],
      "metadata": {
        "id": "LMcLd_etm-0Y"
      },
      "execution_count": 41,
      "outputs": []
    },
    {
      "cell_type": "code",
      "source": [
        "# Partition provided as a convenience\n",
        "\n",
        "def Partition(A,p,r):\n",
        "    x = A[r]\n",
        "    i = p - 1\n",
        "    for j in range(p,r):\n",
        "        if ( A[j] <= x ):\n",
        "            i = i + 1\n",
        "            #swap A[i] <--> A[j]\n",
        "            temp=A[i]\n",
        "            A[i]=A[j]\n",
        "            A[j]=temp\n",
        "    #swap A[i+1] <--> A[r]\n",
        "    temp=A[i+1]\n",
        "    A[i+1]=A[r]\n",
        "    A[r]=temp\n",
        "\n",
        "    return i + 1"
      ],
      "metadata": {
        "id": "TyWIYm1_nIYR"
      },
      "execution_count": 3,
      "outputs": []
    },
    {
      "cell_type": "code",
      "source": [
        "def Quicksort(A,p,r):\n",
        "  while p < r:\n",
        "    q  = Partition(A , p , r)\n",
        "    Quicksort(A , p , q-1)\n",
        "    p=q+1"
      ],
      "metadata": {
        "id": "neX-YNcPnLpk"
      },
      "execution_count": 38,
      "outputs": []
    },
    {
      "cell_type": "code",
      "source": [
        "sys.setrecursionlimit(10000)\n",
        "for i in range(1,4):\n",
        "  N = int(math.pow(10,i))\n",
        "  A = list(range( N ) )\n",
        "  random.shuffle(A) #print(A)\n",
        "  start = time.time()\n",
        "  Quicksort(A,0,N-1)\n",
        "  end = time.time()\n",
        "  ratio=(end-start)/(N*math.log(N,2))\n",
        "  print(\"Randomized: \",N,end-start,ratio)\n",
        "  start = time.time()\n",
        "  Quicksort(A,0,N-1)\n",
        "  end = time.time()\n",
        "  ratio=(end-start)/(N*math.log(N,2))\n",
        "  print(\"Sorted: \",N,end-start,ratio)\n",
        "  #print(A)"
      ],
      "metadata": {
        "colab": {
          "base_uri": "https://localhost:8080/"
        },
        "id": "RVXFjLS0nCeo",
        "outputId": "81549d88-3d1a-4493-9907-d2f674492a2f"
      },
      "execution_count": 45,
      "outputs": [
        {
          "output_type": "stream",
          "name": "stdout",
          "text": [
            "Randomized:  10 3.218650817871094e-05 9.689104417476049e-07\n",
            "Sorted:  10 9.5367431640625e-06 2.8708457533262367e-07\n",
            "Randomized:  100 6.890296936035156e-05 1.0370930283891029e-07\n",
            "Sorted:  100 0.0006365776062011719 9.581447701726314e-07\n",
            "Randomized:  1000 0.0017442703247070312 1.750258960944562e-07\n",
            "Sorted:  1000 0.06259655952453613 6.281147347417084e-06\n"
          ]
        }
      ]
    }
  ]
}