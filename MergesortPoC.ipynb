{
  "nbformat": 4,
  "nbformat_minor": 0,
  "metadata": {
    "colab": {
      "provenance": [],
      "include_colab_link": true
    },
    "kernelspec": {
      "name": "python3",
      "display_name": "Python 3"
    },
    "language_info": {
      "name": "python"
    }
  },
  "cells": [
    {
      "cell_type": "markdown",
      "metadata": {
        "id": "view-in-github",
        "colab_type": "text"
      },
      "source": [
        "<a href=\"https://colab.research.google.com/github/JakeElston/CS315JE/blob/main/MergesortPoC.ipynb\" target=\"_parent\"><img src=\"https://colab.research.google.com/assets/colab-badge.svg\" alt=\"Open In Colab\"/></a>"
      ]
    },
    {
      "cell_type": "code",
      "execution_count": null,
      "metadata": {
        "id": "t_LwP80OmwFK"
      },
      "outputs": [],
      "source": [
        "# Template for testing Insertion-Sort on small lists, outputing each intermediate step"
      ]
    },
    {
      "cell_type": "code",
      "source": [
        "import random\n",
        "import time\n",
        "import math"
      ],
      "metadata": {
        "id": "LMcLd_etm-0Y"
      },
      "execution_count": 1,
      "outputs": []
    },
    {
      "cell_type": "code",
      "source": [
        "# Merge provided as a convenience\n",
        "\n",
        "def Merge(A,p,q,r):\n",
        "    nL = q-p+1\n",
        "    nR = r-q\n",
        "    Left = []\n",
        "    Right = []\n",
        "\n",
        "    for i in range(nL):\n",
        "        Left.append(A[p+i])\n",
        "    for j in range(nR):\n",
        "        Right.append(A[q+j+1])\n",
        "\n",
        "    i=0\n",
        "    j=0\n",
        "    k=p\n",
        "    while i<nL and j<nR:\n",
        "        if (Left[i]<=Right[j]):\n",
        "            A[k]=Left[i]\n",
        "            i+=1\n",
        "        else:\n",
        "            A[k]=Right[j]\n",
        "            j+=1\n",
        "        k+=1\n",
        "\n",
        "    while i< nL:\n",
        "        A[k]=Left[i]\n",
        "        i+=1\n",
        "        k+=1\n",
        "    while j< nR:\n",
        "        A[k]=Right[j]\n",
        "        j+=1\n",
        "        k+=1\n",
        "\n",
        "    return"
      ],
      "metadata": {
        "id": "TyWIYm1_nIYR"
      },
      "execution_count": 2,
      "outputs": []
    },
    {
      "cell_type": "code",
      "source": [
        "def Mergesort(A,p,r,print_flag):\n",
        "    if p >= r:\n",
        "        return\n",
        "    q = (p+r)//2\n",
        "\n",
        "    # Modify the following three calls:\n",
        "    Mergesort(A, p, q, print_flag)\n",
        "    Mergesort(A, q+1, r, print_flag)\n",
        "    Merge(A, p, q, r)\n",
        "\n",
        "    if print_flag:\n",
        "      print(A)\n",
        "    return"
      ],
      "metadata": {
        "id": "neX-YNcPnLpk"
      },
      "execution_count": 3,
      "outputs": []
    },
    {
      "cell_type": "code",
      "source": [
        "for i in range (1, 4):\n",
        "  N = int(math.pow(10,i))\n",
        "  A = list(range(N))\n",
        "  random.shuffle(A)\n",
        "\n",
        "#Uses random set\n",
        "  start = time.time()\n",
        "  Mergesort(A,0,N-1,False)\n",
        "  end = time.time()\n",
        "  ratio = (end-start) / (N*math.log(N, 2))\n",
        "  print(\"Random: \",N,end-start,ratio)\n",
        "\n",
        "#Uses sorted data from last run\n",
        "  start = time.time()\n",
        "  Mergesort(A,0,N-1,False)\n",
        "  end = time.time()\n",
        "  ratio = (end-start) / (N*math.log(N, 2))\n",
        "  print(\"Sorted: \",N,end-start,ratio)"
      ],
      "metadata": {
        "colab": {
          "base_uri": "https://localhost:8080/"
        },
        "id": "RVXFjLS0nCeo",
        "outputId": "486323c9-57aa-4654-cb04-c6a860637c25"
      },
      "execution_count": 5,
      "outputs": [
        {
          "output_type": "stream",
          "name": "stdout",
          "text": [
            "Random:  10 2.0265579223632812e-05 6.100547225818253e-07\n",
            "Sorted:  10 2.2649765014648438e-05 6.818258664149812e-07\n",
            "Random:  100 0.00021457672119140625 3.229701472492016e-07\n",
            "Sorted:  100 0.00013256072998046875 1.9952377985617344e-07\n",
            "Random:  1000 0.0029375553131103516 2.9476408772277134e-07\n",
            "Sorted:  1000 0.002053976058959961 2.0610280137421272e-07\n"
          ]
        }
      ]
    }
  ]
}