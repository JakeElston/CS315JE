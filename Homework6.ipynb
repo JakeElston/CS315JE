{
  "nbformat": 4,
  "nbformat_minor": 0,
  "metadata": {
    "colab": {
      "provenance": [],
      "authorship_tag": "ABX9TyNDIJRBhMPYBb4XxfSJwSzC",
      "include_colab_link": true
    },
    "kernelspec": {
      "name": "python3",
      "display_name": "Python 3"
    },
    "language_info": {
      "name": "python"
    }
  },
  "cells": [
    {
      "cell_type": "markdown",
      "metadata": {
        "id": "view-in-github",
        "colab_type": "text"
      },
      "source": [
        "<a href=\"https://colab.research.google.com/github/JakeElston/CS315JE/blob/main/Homework6.ipynb\" target=\"_parent\"><img src=\"https://colab.research.google.com/assets/colab-badge.svg\" alt=\"Open In Colab\"/></a>"
      ]
    },
    {
      "cell_type": "markdown",
      "source": [
        "Similarities between randomised select and quick select:\n",
        "Both pivot around a randomly chosen position in the array, and look either higher or lower after comparing values.  They also both shorten the list until a length of 1 is reached, unless the pivot value is in the desired position.\n",
        "\n",
        "Differences between randomised select and quick select:\n",
        "Randomised select reorders the array, while quick select searches in place.  Quick select also counts the values that are lower than the pivot value whereas randomised select determines the position of the pivot value via partition.  Quick select does not know where the pivot value is, only how many values are on either side of it.\n",
        "\n",
        "The worst case for the quick select algorithm would be if the random choice was always at either the lowest or highest value, meaning the list only shrinks by one each iteration.  This is O(N^2).  The random nature will prevent the dataset from impacting runtime too much.\n"
      ],
      "metadata": {
        "id": "3-i93rNYJ7yo"
      }
    },
    {
      "cell_type": "code",
      "execution_count": 2,
      "metadata": {
        "id": "34CPRJwdI1Cf"
      },
      "outputs": [],
      "source": [
        "import random\n",
        "import time\n",
        "def quickselect(A, i):\n",
        "  if len(A) == 1:\n",
        "    return A[0]\n",
        "  pivot = random.choice(A)\n",
        "  lows = [x for x in A if x < pivot]\n",
        "  highs = [x for x in A if x > pivot]\n",
        "  pivots = [x for x in A if x == pivot]\n",
        "  if i <= len(lows):\n",
        "    return quickselect(lows, i)\n",
        "  elif i <= len(lows) + len(pivots):\n",
        "    return pivot\n",
        "  else:\n",
        "    return quickselect(highs, i - len(lows) - len(pivots))"
      ]
    },
    {
      "cell_type": "code",
      "source": [
        "asc = [2, 4, 6, 8, 10, 12, 14, 16, 18]\n",
        "desc = [18, 16, 14, 12, 10, 8, 6, 4, 2]\n",
        "rand = desc\n",
        "random.shuffle(rand)\n",
        "\n",
        "start = time.time()\n",
        "find = quickselect(asc, 2)\n",
        "stop = time.time()\n",
        "print(\"Asc found: \" + str(find) + \" and took: \" + str(stop - start))\n",
        "\n",
        "start = time.time()\n",
        "find = quickselect(desc, 2)\n",
        "stop = time.time()\n",
        "print(\"Desc found: \" + str(find) + \" and took: \" + str(stop - start))\n",
        "\n",
        "start = time.time()\n",
        "find = quickselect(rand, 2)\n",
        "stop = time.time()\n",
        "print(\"Rand found: \" + str(find) + \" and took: \" + str(stop - start))\n"
      ],
      "metadata": {
        "colab": {
          "base_uri": "https://localhost:8080/"
        },
        "id": "M6n7WggzJCX2",
        "outputId": "30abea51-4731-4276-ba86-adb27994aa76"
      },
      "execution_count": 38,
      "outputs": [
        {
          "output_type": "stream",
          "name": "stdout",
          "text": [
            "Asc found: 4 and took: 6.246566772460938e-05\n",
            "Desc found: 4 and took: 0.00015664100646972656\n",
            "Rand found: 4 and took: 0.00010704994201660156\n"
          ]
        }
      ]
    }
  ]
}