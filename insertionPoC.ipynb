{
  "nbformat": 4,
  "nbformat_minor": 0,
  "metadata": {
    "colab": {
      "provenance": [],
      "include_colab_link": true
    },
    "kernelspec": {
      "name": "python3",
      "display_name": "Python 3"
    },
    "language_info": {
      "name": "python"
    }
  },
  "cells": [
    {
      "cell_type": "markdown",
      "metadata": {
        "id": "view-in-github",
        "colab_type": "text"
      },
      "source": [
        "<a href=\"https://colab.research.google.com/github/JakeElston/CS315JE/blob/main/insertionPoC.ipynb\" target=\"_parent\"><img src=\"https://colab.research.google.com/assets/colab-badge.svg\" alt=\"Open In Colab\"/></a>"
      ]
    },
    {
      "cell_type": "code",
      "execution_count": null,
      "metadata": {
        "id": "tZGwopH4Y7oL"
      },
      "outputs": [],
      "source": [
        "# Template for testing Insertion-Sort on small lists, outputing each intermediate step"
      ]
    },
    {
      "cell_type": "code",
      "source": [
        "import random\n",
        "import time\n",
        "import math\n",
        "import sys"
      ],
      "metadata": {
        "id": "fSME9MywceAq"
      },
      "execution_count": 9,
      "outputs": []
    },
    {
      "cell_type": "code",
      "source": [
        "def insertion(A,print_flag):\n",
        "\n",
        "# For your convenience, here is the psuedocode from the textbook for Insertion-Sort\n",
        "# You can adapt it for this problem, there aren't many changes required\n",
        "# Note that N is defined in a different execution group and doesn't need to be a parameter\n",
        "# Also, it is nice to have a boolean flag controlling whether the intermediate result is printed\n",
        "# The psuedocode is written to be \"in-place,\" so the input list changes\n",
        "\n",
        "# Insertion-Sort(A,n)\n",
        " for i in range(2, len(A)):\n",
        "    key = A[i]\n",
        "# insert A[i] into sorted seq A[1]..A[i-1]\n",
        "    j = i-1\n",
        "    while j>0 and A[j]>key:\n",
        "       A[j+1] = A[j]\n",
        "       j = j-1\n",
        "    A[j+1] = key"
      ],
      "metadata": {
        "id": "TJZL4jFQZhAp"
      },
      "execution_count": 7,
      "outputs": []
    },
    {
      "cell_type": "code",
      "source": [
        "for i in range(1,4):\n",
        "  N = int(math.pow(10,i))\n",
        "  A = list(range(N))\n",
        "  random.shuffle(A)\n",
        "\n",
        "#Uses random list\n",
        "  start = time.time()\n",
        "  insertion(A,True)\n",
        "  end = time.time()\n",
        "  ratio = (end-start)/(N^2)\n",
        "  print(\"Randomized: \",N,end-start,ratio)\n",
        "\n",
        "#Uses sorted list from last run\n",
        "  start = time.time()\n",
        "  insertion(A,True)\n",
        "  end = time.time()\n",
        "  ratio = (end-start)/(N^2)\n",
        "  print(\"Sorted: \",N,end-start,ratio)\n"
      ],
      "metadata": {
        "colab": {
          "base_uri": "https://localhost:8080/"
        },
        "id": "f1GS3NjwZqmS",
        "outputId": "00f8c385-dfbe-4e94-9da9-f9e6efbcbf48"
      },
      "execution_count": 13,
      "outputs": [
        {
          "output_type": "stream",
          "name": "stdout",
          "text": [
            "Randomized:  10 7.939338684082031e-05 9.924173355102539e-06\n",
            "Sorted:  10 3.0994415283203125e-06 3.8743019104003906e-07\n",
            "Randomized:  100 0.0001628398895263672 1.5964695051604627e-06\n",
            "Sorted:  100 8.106231689453125e-06 7.947285970052083e-08\n",
            "Randomized:  1000 0.0270235538482666 2.6969614619028546e-05\n",
            "Sorted:  1000 0.00011444091796875 1.1421249298278443e-07\n"
          ]
        }
      ]
    }
  ]
}